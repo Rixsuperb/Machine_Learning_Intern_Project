{
 "cells": [
  {
   "cell_type": "code",
   "execution_count": 67,
   "id": "cddfb583",
   "metadata": {},
   "outputs": [],
   "source": [
    "\n",
    "import pandas as pd\n",
    "from sklearn.model_selection import train_test_split\n",
    "from sklearn import svm\n",
    "from sklearn import metrics\n",
    "import seaborn as sns\n",
    "import matplotlib.pyplot as plt\n",
    "import numpy as np\n",
    "from sklearn.metrics import accuracy_score,recall_score,precision_score, confusion_matrix\n",
    "import warnings\n",
    "warnings.filterwarnings('ignore')\n",
    "\n",
    "from sklearn import preprocessing \n",
    "from sklearn.preprocessing import OneHotEncoder \n"
   ]
  },
  {
   "cell_type": "code",
   "execution_count": 3,
   "id": "d36b251f",
   "metadata": {
    "scrolled": true
   },
   "outputs": [
    {
     "data": {
      "text/html": [
       "<div>\n",
       "<style scoped>\n",
       "    .dataframe tbody tr th:only-of-type {\n",
       "        vertical-align: middle;\n",
       "    }\n",
       "\n",
       "    .dataframe tbody tr th {\n",
       "        vertical-align: top;\n",
       "    }\n",
       "\n",
       "    .dataframe thead th {\n",
       "        text-align: right;\n",
       "    }\n",
       "</style>\n",
       "<table border=\"1\" class=\"dataframe\">\n",
       "  <thead>\n",
       "    <tr style=\"text-align: right;\">\n",
       "      <th></th>\n",
       "      <th>customer_id</th>\n",
       "      <th>loan_id</th>\n",
       "      <th>loan_type</th>\n",
       "      <th>loan_amount</th>\n",
       "      <th>interest_rate</th>\n",
       "      <th>loan_term</th>\n",
       "      <th>employment_type</th>\n",
       "      <th>income_level</th>\n",
       "      <th>credit_score</th>\n",
       "      <th>gender</th>\n",
       "      <th>marital_status</th>\n",
       "      <th>education_level</th>\n",
       "      <th>application_date</th>\n",
       "      <th>approval_date</th>\n",
       "      <th>disbursement_date</th>\n",
       "      <th>due_date</th>\n",
       "      <th>default_status</th>\n",
       "    </tr>\n",
       "  </thead>\n",
       "  <tbody>\n",
       "    <tr>\n",
       "      <th>0</th>\n",
       "      <td>CUST-00004912</td>\n",
       "      <td>LN00004170</td>\n",
       "      <td>Car Loan</td>\n",
       "      <td>16795</td>\n",
       "      <td>0.051852</td>\n",
       "      <td>15</td>\n",
       "      <td>Self-employed</td>\n",
       "      <td>Medium</td>\n",
       "      <td>833</td>\n",
       "      <td>Male</td>\n",
       "      <td>Single</td>\n",
       "      <td>Master</td>\n",
       "      <td>05-04-2018</td>\n",
       "      <td>23-04-2018</td>\n",
       "      <td>24-04-2018</td>\n",
       "      <td>14-08-2018</td>\n",
       "      <td>False</td>\n",
       "    </tr>\n",
       "    <tr>\n",
       "      <th>1</th>\n",
       "      <td>CUST-00004194</td>\n",
       "      <td>LN00002413</td>\n",
       "      <td>Personal Loan</td>\n",
       "      <td>1860</td>\n",
       "      <td>0.089296</td>\n",
       "      <td>56</td>\n",
       "      <td>Full-time</td>\n",
       "      <td>Medium</td>\n",
       "      <td>776</td>\n",
       "      <td>Female</td>\n",
       "      <td>Married</td>\n",
       "      <td>Bachelor</td>\n",
       "      <td>30-12-2022</td>\n",
       "      <td>31-12-2022</td>\n",
       "      <td>12-01-2023</td>\n",
       "      <td>05-04-2023</td>\n",
       "      <td>False</td>\n",
       "    </tr>\n",
       "    <tr>\n",
       "      <th>2</th>\n",
       "      <td>CUST-00003610</td>\n",
       "      <td>LN00000024</td>\n",
       "      <td>Personal Loan</td>\n",
       "      <td>77820</td>\n",
       "      <td>0.070470</td>\n",
       "      <td>51</td>\n",
       "      <td>Full-time</td>\n",
       "      <td>Low</td>\n",
       "      <td>697</td>\n",
       "      <td>Male</td>\n",
       "      <td>Divorced</td>\n",
       "      <td>High School</td>\n",
       "      <td>15-11-2019</td>\n",
       "      <td>18-11-2019</td>\n",
       "      <td>27-11-2019</td>\n",
       "      <td>24-02-2020</td>\n",
       "      <td>False</td>\n",
       "    </tr>\n",
       "    <tr>\n",
       "      <th>3</th>\n",
       "      <td>CUST-00001895</td>\n",
       "      <td>LN00001742</td>\n",
       "      <td>Car Loan</td>\n",
       "      <td>55886</td>\n",
       "      <td>0.062155</td>\n",
       "      <td>30</td>\n",
       "      <td>Full-time</td>\n",
       "      <td>Low</td>\n",
       "      <td>795</td>\n",
       "      <td>Female</td>\n",
       "      <td>Married</td>\n",
       "      <td>PhD</td>\n",
       "      <td>25-08-2021</td>\n",
       "      <td>08-09-2021</td>\n",
       "      <td>11-09-2021</td>\n",
       "      <td>25-02-2022</td>\n",
       "      <td>False</td>\n",
       "    </tr>\n",
       "    <tr>\n",
       "      <th>4</th>\n",
       "      <td>CUST-00003782</td>\n",
       "      <td>LN00003161</td>\n",
       "      <td>Home Loan</td>\n",
       "      <td>7265</td>\n",
       "      <td>0.070635</td>\n",
       "      <td>48</td>\n",
       "      <td>Part-time</td>\n",
       "      <td>Low</td>\n",
       "      <td>519</td>\n",
       "      <td>Female</td>\n",
       "      <td>Married</td>\n",
       "      <td>High School</td>\n",
       "      <td>02-09-2020</td>\n",
       "      <td>07-09-2020</td>\n",
       "      <td>11-09-2020</td>\n",
       "      <td>29-12-2020</td>\n",
       "      <td>False</td>\n",
       "    </tr>\n",
       "  </tbody>\n",
       "</table>\n",
       "</div>"
      ],
      "text/plain": [
       "     customer_id     loan_id      loan_type  loan_amount  interest_rate  \\\n",
       "0  CUST-00004912  LN00004170       Car Loan        16795       0.051852   \n",
       "1  CUST-00004194  LN00002413  Personal Loan         1860       0.089296   \n",
       "2  CUST-00003610  LN00000024  Personal Loan        77820       0.070470   \n",
       "3  CUST-00001895  LN00001742       Car Loan        55886       0.062155   \n",
       "4  CUST-00003782  LN00003161      Home Loan         7265       0.070635   \n",
       "\n",
       "   loan_term employment_type income_level  credit_score  gender  \\\n",
       "0         15   Self-employed       Medium           833    Male   \n",
       "1         56       Full-time       Medium           776  Female   \n",
       "2         51       Full-time          Low           697    Male   \n",
       "3         30       Full-time          Low           795  Female   \n",
       "4         48       Part-time          Low           519  Female   \n",
       "\n",
       "  marital_status education_level application_date approval_date  \\\n",
       "0         Single          Master       05-04-2018    23-04-2018   \n",
       "1        Married        Bachelor       30-12-2022    31-12-2022   \n",
       "2       Divorced     High School       15-11-2019    18-11-2019   \n",
       "3        Married             PhD       25-08-2021    08-09-2021   \n",
       "4        Married     High School       02-09-2020    07-09-2020   \n",
       "\n",
       "  disbursement_date    due_date  default_status  \n",
       "0        24-04-2018  14-08-2018           False  \n",
       "1        12-01-2023  05-04-2023           False  \n",
       "2        27-11-2019  24-02-2020           False  \n",
       "3        11-09-2021  25-02-2022           False  \n",
       "4        11-09-2020  29-12-2020           False  "
      ]
     },
     "execution_count": 3,
     "metadata": {},
     "output_type": "execute_result"
    }
   ],
   "source": [
    "#import data\n",
    "data = pd.read_csv('C:\\\\Users\\\\BOOK\\Documents\\\\DataScience_Project\\\\VLC-SGIT-25-014 - MODULE RESOURCE BUNDLE\\\\Module 1 - Finance\\\\Project 1 - Finance - Predictive Analytics\\\\Project 1 - Finance - Predictive Analytics\\\\Dataset\\\\loan.csv')\n",
    "data.head()"
   ]
  },
  {
   "cell_type": "code",
   "execution_count": 4,
   "id": "d49034a9",
   "metadata": {
    "scrolled": true
   },
   "outputs": [
    {
     "data": {
      "text/html": [
       "<div>\n",
       "<style scoped>\n",
       "    .dataframe tbody tr th:only-of-type {\n",
       "        vertical-align: middle;\n",
       "    }\n",
       "\n",
       "    .dataframe tbody tr th {\n",
       "        vertical-align: top;\n",
       "    }\n",
       "\n",
       "    .dataframe thead th {\n",
       "        text-align: right;\n",
       "    }\n",
       "</style>\n",
       "<table border=\"1\" class=\"dataframe\">\n",
       "  <thead>\n",
       "    <tr style=\"text-align: right;\">\n",
       "      <th></th>\n",
       "      <th>loan_amount</th>\n",
       "      <th>interest_rate</th>\n",
       "      <th>loan_term</th>\n",
       "      <th>credit_score</th>\n",
       "    </tr>\n",
       "  </thead>\n",
       "  <tbody>\n",
       "    <tr>\n",
       "      <th>count</th>\n",
       "      <td>5000.000000</td>\n",
       "      <td>5000.000000</td>\n",
       "      <td>5000.000000</td>\n",
       "      <td>5000.000000</td>\n",
       "    </tr>\n",
       "    <tr>\n",
       "      <th>mean</th>\n",
       "      <td>49929.868000</td>\n",
       "      <td>0.079579</td>\n",
       "      <td>35.263000</td>\n",
       "      <td>573.206000</td>\n",
       "    </tr>\n",
       "    <tr>\n",
       "      <th>std</th>\n",
       "      <td>28721.249529</td>\n",
       "      <td>0.015230</td>\n",
       "      <td>13.792501</td>\n",
       "      <td>158.647522</td>\n",
       "    </tr>\n",
       "    <tr>\n",
       "      <th>min</th>\n",
       "      <td>1055.000000</td>\n",
       "      <td>0.031685</td>\n",
       "      <td>12.000000</td>\n",
       "      <td>300.000000</td>\n",
       "    </tr>\n",
       "    <tr>\n",
       "      <th>25%</th>\n",
       "      <td>24953.500000</td>\n",
       "      <td>0.069240</td>\n",
       "      <td>24.000000</td>\n",
       "      <td>435.000000</td>\n",
       "    </tr>\n",
       "    <tr>\n",
       "      <th>50%</th>\n",
       "      <td>49730.000000</td>\n",
       "      <td>0.079533</td>\n",
       "      <td>35.000000</td>\n",
       "      <td>571.000000</td>\n",
       "    </tr>\n",
       "    <tr>\n",
       "      <th>75%</th>\n",
       "      <td>75083.500000</td>\n",
       "      <td>0.089984</td>\n",
       "      <td>47.000000</td>\n",
       "      <td>712.000000</td>\n",
       "    </tr>\n",
       "    <tr>\n",
       "      <th>max</th>\n",
       "      <td>99989.000000</td>\n",
       "      <td>0.138894</td>\n",
       "      <td>59.000000</td>\n",
       "      <td>849.000000</td>\n",
       "    </tr>\n",
       "  </tbody>\n",
       "</table>\n",
       "</div>"
      ],
      "text/plain": [
       "        loan_amount  interest_rate    loan_term  credit_score\n",
       "count   5000.000000    5000.000000  5000.000000   5000.000000\n",
       "mean   49929.868000       0.079579    35.263000    573.206000\n",
       "std    28721.249529       0.015230    13.792501    158.647522\n",
       "min     1055.000000       0.031685    12.000000    300.000000\n",
       "25%    24953.500000       0.069240    24.000000    435.000000\n",
       "50%    49730.000000       0.079533    35.000000    571.000000\n",
       "75%    75083.500000       0.089984    47.000000    712.000000\n",
       "max    99989.000000       0.138894    59.000000    849.000000"
      ]
     },
     "execution_count": 4,
     "metadata": {},
     "output_type": "execute_result"
    }
   ],
   "source": [
    "data.describe()"
   ]
  },
  {
   "cell_type": "code",
   "execution_count": 6,
   "id": "9ec91ee5",
   "metadata": {},
   "outputs": [
    {
     "name": "stdout",
     "output_type": "stream",
     "text": [
      "<class 'pandas.core.frame.DataFrame'>\n",
      "RangeIndex: 5000 entries, 0 to 4999\n",
      "Data columns (total 17 columns):\n",
      " #   Column             Non-Null Count  Dtype  \n",
      "---  ------             --------------  -----  \n",
      " 0   customer_id        5000 non-null   object \n",
      " 1   loan_id            5000 non-null   object \n",
      " 2   loan_type          5000 non-null   object \n",
      " 3   loan_amount        5000 non-null   int64  \n",
      " 4   interest_rate      5000 non-null   float64\n",
      " 5   loan_term          5000 non-null   int64  \n",
      " 6   employment_type    5000 non-null   object \n",
      " 7   income_level       5000 non-null   object \n",
      " 8   credit_score       5000 non-null   int64  \n",
      " 9   gender             5000 non-null   object \n",
      " 10  marital_status     5000 non-null   object \n",
      " 11  education_level    5000 non-null   object \n",
      " 12  application_date   5000 non-null   object \n",
      " 13  approval_date      5000 non-null   object \n",
      " 14  disbursement_date  5000 non-null   object \n",
      " 15  due_date           5000 non-null   object \n",
      " 16  default_status     5000 non-null   bool   \n",
      "dtypes: bool(1), float64(1), int64(3), object(12)\n",
      "memory usage: 630.0+ KB\n"
     ]
    }
   ],
   "source": [
    "data.info()"
   ]
  },
  {
   "cell_type": "code",
   "execution_count": 178,
   "id": "be8d35c9",
   "metadata": {},
   "outputs": [
    {
     "data": {
      "text/plain": [
       "(5000, 17)"
      ]
     },
     "execution_count": 178,
     "metadata": {},
     "output_type": "execute_result"
    }
   ],
   "source": [
    "data.shape"
   ]
  },
  {
   "cell_type": "code",
   "execution_count": 13,
   "id": "8a76b112",
   "metadata": {},
   "outputs": [
    {
     "data": {
      "text/plain": [
       "customer_id           object\n",
       "loan_id               object\n",
       "loan_type             object\n",
       "loan_amount            int64\n",
       "interest_rate        float64\n",
       "loan_term              int64\n",
       "employment_type       object\n",
       "income_level          object\n",
       "credit_score           int64\n",
       "gender                object\n",
       "marital_status        object\n",
       "education_level       object\n",
       "application_date      object\n",
       "approval_date         object\n",
       "disbursement_date     object\n",
       "due_date              object\n",
       "default_status          bool\n",
       "dtype: object"
      ]
     },
     "execution_count": 13,
     "metadata": {},
     "output_type": "execute_result"
    }
   ],
   "source": [
    "data.dtypes"
   ]
  },
  {
   "cell_type": "code",
   "execution_count": 179,
   "id": "9aaa7de9",
   "metadata": {},
   "outputs": [
    {
     "data": {
      "text/plain": [
       "customer_id          False\n",
       "loan_id              False\n",
       "loan_type            False\n",
       "loan_amount          False\n",
       "interest_rate        False\n",
       "loan_term            False\n",
       "employment_type      False\n",
       "income_level         False\n",
       "credit_score         False\n",
       "gender               False\n",
       "marital_status       False\n",
       "education_level      False\n",
       "application_date     False\n",
       "approval_date        False\n",
       "disbursement_date    False\n",
       "due_date             False\n",
       "default_status       False\n",
       "dtype: bool"
      ]
     },
     "execution_count": 179,
     "metadata": {},
     "output_type": "execute_result"
    }
   ],
   "source": [
    "data.isnull().all()"
   ]
  },
  {
   "cell_type": "code",
   "execution_count": 180,
   "id": "81102302",
   "metadata": {},
   "outputs": [
    {
     "data": {
      "text/plain": [
       "Index(['customer_id', 'loan_id', 'loan_type', 'loan_amount', 'interest_rate',\n",
       "       'loan_term', 'employment_type', 'income_level', 'credit_score',\n",
       "       'gender', 'marital_status', 'education_level', 'application_date',\n",
       "       'approval_date', 'disbursement_date', 'due_date', 'default_status'],\n",
       "      dtype='object')"
      ]
     },
     "execution_count": 180,
     "metadata": {},
     "output_type": "execute_result"
    }
   ],
   "source": [
    "data.columns"
   ]
  },
  {
   "cell_type": "code",
   "execution_count": 9,
   "id": "58113ab4",
   "metadata": {},
   "outputs": [
    {
     "data": {
      "text/plain": [
       "customer_id          0.0\n",
       "loan_id              0.0\n",
       "loan_type            0.0\n",
       "loan_amount          0.0\n",
       "interest_rate        0.0\n",
       "loan_term            0.0\n",
       "employment_type      0.0\n",
       "income_level         0.0\n",
       "credit_score         0.0\n",
       "gender               0.0\n",
       "marital_status       0.0\n",
       "education_level      0.0\n",
       "application_date     0.0\n",
       "approval_date        0.0\n",
       "disbursement_date    0.0\n",
       "due_date             0.0\n",
       "default_status       0.0\n",
       "dtype: float64"
      ]
     },
     "execution_count": 9,
     "metadata": {},
     "output_type": "execute_result"
    }
   ],
   "source": [
    "data.isna().sum()*100/len(data)"
   ]
  },
  {
   "cell_type": "code",
   "execution_count": 182,
   "id": "0fef6be7",
   "metadata": {},
   "outputs": [
    {
     "data": {
      "text/plain": [
       "0.0"
      ]
     },
     "execution_count": 182,
     "metadata": {},
     "output_type": "execute_result"
    }
   ],
   "source": [
    "data.duplicated().sum()*100/len(data)"
   ]
  },
  {
   "cell_type": "code",
   "execution_count": 183,
   "id": "9aa74fec",
   "metadata": {},
   "outputs": [
    {
     "data": {
      "text/html": [
       "<div>\n",
       "<style scoped>\n",
       "    .dataframe tbody tr th:only-of-type {\n",
       "        vertical-align: middle;\n",
       "    }\n",
       "\n",
       "    .dataframe tbody tr th {\n",
       "        vertical-align: top;\n",
       "    }\n",
       "\n",
       "    .dataframe thead th {\n",
       "        text-align: right;\n",
       "    }\n",
       "</style>\n",
       "<table border=\"1\" class=\"dataframe\">\n",
       "  <thead>\n",
       "    <tr style=\"text-align: right;\">\n",
       "      <th></th>\n",
       "      <th>loan_amount</th>\n",
       "      <th>interest_rate</th>\n",
       "      <th>loan_term</th>\n",
       "      <th>credit_score</th>\n",
       "    </tr>\n",
       "  </thead>\n",
       "  <tbody>\n",
       "    <tr>\n",
       "      <th>count</th>\n",
       "      <td>5000.000000</td>\n",
       "      <td>5000.000000</td>\n",
       "      <td>5000.000000</td>\n",
       "      <td>5000.000000</td>\n",
       "    </tr>\n",
       "    <tr>\n",
       "      <th>mean</th>\n",
       "      <td>49929.868000</td>\n",
       "      <td>0.079579</td>\n",
       "      <td>35.263000</td>\n",
       "      <td>573.206000</td>\n",
       "    </tr>\n",
       "    <tr>\n",
       "      <th>std</th>\n",
       "      <td>28721.249529</td>\n",
       "      <td>0.015230</td>\n",
       "      <td>13.792501</td>\n",
       "      <td>158.647522</td>\n",
       "    </tr>\n",
       "    <tr>\n",
       "      <th>min</th>\n",
       "      <td>1055.000000</td>\n",
       "      <td>0.031685</td>\n",
       "      <td>12.000000</td>\n",
       "      <td>300.000000</td>\n",
       "    </tr>\n",
       "    <tr>\n",
       "      <th>25%</th>\n",
       "      <td>24953.500000</td>\n",
       "      <td>0.069240</td>\n",
       "      <td>24.000000</td>\n",
       "      <td>435.000000</td>\n",
       "    </tr>\n",
       "    <tr>\n",
       "      <th>50%</th>\n",
       "      <td>49730.000000</td>\n",
       "      <td>0.079533</td>\n",
       "      <td>35.000000</td>\n",
       "      <td>571.000000</td>\n",
       "    </tr>\n",
       "    <tr>\n",
       "      <th>75%</th>\n",
       "      <td>75083.500000</td>\n",
       "      <td>0.089984</td>\n",
       "      <td>47.000000</td>\n",
       "      <td>712.000000</td>\n",
       "    </tr>\n",
       "    <tr>\n",
       "      <th>max</th>\n",
       "      <td>99989.000000</td>\n",
       "      <td>0.138894</td>\n",
       "      <td>59.000000</td>\n",
       "      <td>849.000000</td>\n",
       "    </tr>\n",
       "  </tbody>\n",
       "</table>\n",
       "</div>"
      ],
      "text/plain": [
       "        loan_amount  interest_rate    loan_term  credit_score\n",
       "count   5000.000000    5000.000000  5000.000000   5000.000000\n",
       "mean   49929.868000       0.079579    35.263000    573.206000\n",
       "std    28721.249529       0.015230    13.792501    158.647522\n",
       "min     1055.000000       0.031685    12.000000    300.000000\n",
       "25%    24953.500000       0.069240    24.000000    435.000000\n",
       "50%    49730.000000       0.079533    35.000000    571.000000\n",
       "75%    75083.500000       0.089984    47.000000    712.000000\n",
       "max    99989.000000       0.138894    59.000000    849.000000"
      ]
     },
     "execution_count": 183,
     "metadata": {},
     "output_type": "execute_result"
    }
   ],
   "source": [
    "data.describe()"
   ]
  },
  {
   "cell_type": "code",
   "execution_count": 10,
   "id": "efff3013",
   "metadata": {},
   "outputs": [
    {
     "data": {
      "text/html": [
       "<div>\n",
       "<style scoped>\n",
       "    .dataframe tbody tr th:only-of-type {\n",
       "        vertical-align: middle;\n",
       "    }\n",
       "\n",
       "    .dataframe tbody tr th {\n",
       "        vertical-align: top;\n",
       "    }\n",
       "\n",
       "    .dataframe thead th {\n",
       "        text-align: right;\n",
       "    }\n",
       "</style>\n",
       "<table border=\"1\" class=\"dataframe\">\n",
       "  <thead>\n",
       "    <tr style=\"text-align: right;\">\n",
       "      <th>default_status</th>\n",
       "      <th>False</th>\n",
       "      <th>True</th>\n",
       "      <th>All</th>\n",
       "    </tr>\n",
       "    <tr>\n",
       "      <th>credit_score</th>\n",
       "      <th></th>\n",
       "      <th></th>\n",
       "      <th></th>\n",
       "    </tr>\n",
       "  </thead>\n",
       "  <tbody>\n",
       "    <tr>\n",
       "      <th>300</th>\n",
       "      <td>10</td>\n",
       "      <td>2</td>\n",
       "      <td>12</td>\n",
       "    </tr>\n",
       "    <tr>\n",
       "      <th>301</th>\n",
       "      <td>5</td>\n",
       "      <td>4</td>\n",
       "      <td>9</td>\n",
       "    </tr>\n",
       "    <tr>\n",
       "      <th>302</th>\n",
       "      <td>6</td>\n",
       "      <td>1</td>\n",
       "      <td>7</td>\n",
       "    </tr>\n",
       "    <tr>\n",
       "      <th>303</th>\n",
       "      <td>5</td>\n",
       "      <td>3</td>\n",
       "      <td>8</td>\n",
       "    </tr>\n",
       "    <tr>\n",
       "      <th>304</th>\n",
       "      <td>7</td>\n",
       "      <td>3</td>\n",
       "      <td>10</td>\n",
       "    </tr>\n",
       "    <tr>\n",
       "      <th>...</th>\n",
       "      <td>...</td>\n",
       "      <td>...</td>\n",
       "      <td>...</td>\n",
       "    </tr>\n",
       "    <tr>\n",
       "      <th>846</th>\n",
       "      <td>6</td>\n",
       "      <td>1</td>\n",
       "      <td>7</td>\n",
       "    </tr>\n",
       "    <tr>\n",
       "      <th>847</th>\n",
       "      <td>6</td>\n",
       "      <td>1</td>\n",
       "      <td>7</td>\n",
       "    </tr>\n",
       "    <tr>\n",
       "      <th>848</th>\n",
       "      <td>12</td>\n",
       "      <td>2</td>\n",
       "      <td>14</td>\n",
       "    </tr>\n",
       "    <tr>\n",
       "      <th>849</th>\n",
       "      <td>9</td>\n",
       "      <td>3</td>\n",
       "      <td>12</td>\n",
       "    </tr>\n",
       "    <tr>\n",
       "      <th>All</th>\n",
       "      <td>4001</td>\n",
       "      <td>999</td>\n",
       "      <td>5000</td>\n",
       "    </tr>\n",
       "  </tbody>\n",
       "</table>\n",
       "<p>551 rows × 3 columns</p>\n",
       "</div>"
      ],
      "text/plain": [
       "default_status  False  True   All\n",
       "credit_score                     \n",
       "300                10     2    12\n",
       "301                 5     4     9\n",
       "302                 6     1     7\n",
       "303                 5     3     8\n",
       "304                 7     3    10\n",
       "...               ...   ...   ...\n",
       "846                 6     1     7\n",
       "847                 6     1     7\n",
       "848                12     2    14\n",
       "849                 9     3    12\n",
       "All              4001   999  5000\n",
       "\n",
       "[551 rows x 3 columns]"
      ]
     },
     "execution_count": 10,
     "metadata": {},
     "output_type": "execute_result"
    }
   ],
   "source": [
    "pd.crosstab(data['credit_score'],data['default_status'],margins = True)"
   ]
  },
  {
   "cell_type": "code",
   "execution_count": 12,
   "id": "c5ce007b",
   "metadata": {},
   "outputs": [
    {
     "data": {
      "image/png": "[encoded data removed]",
      "text/plain": [
       "<Figure size 640x480 with 2 Axes>"
      ]
     },
     "metadata": {},
     "output_type": "display_data"
    }
   ],
   "source": [
    "numeric_data = data.select_dtypes(include=['float64', 'int64']) # since our data has non numeric data as well\n",
    "\n",
    "corr = numeric_data.corr() # Finding the correlation between different columns\n",
    "\n",
    "#Generate Color Map, red & blue\n",
    "colorsintheheatmap = sns.diverging_palette(3800, 30, as_cmap=True)\n",
    "\n",
    "#Generate Heat Map, allow annotations and place floats in map\n",
    "sns.heatmap(corr, cmap=colorsintheheatmap, annot=True, fmt=\".2f\")\n",
    "plt.show()"
   ]
  },
  {
   "cell_type": "code",
   "execution_count": null,
   "id": "21ab8688",
   "metadata": {},
   "outputs": [],
   "source": []
  },
  {
   "cell_type": "code",
   "execution_count": 56,
   "id": "b2238413",
   "metadata": {},
   "outputs": [],
   "source": [
    "label_encoder = preprocessing.LabelEncoder() \n",
    " \n",
    " # convert categorical columns to numerical values\n",
    " \n",
    " #Encode labels in column. \n",
    "data['default_status']= label_encoder.fit_transform(data['default_status']) \n",
    "data['income_level']= label_encoder.fit_transform(data['income_level']) \n",
    "data['employment_type']= label_encoder.fit_transform(data['employment_type']) \n",
    "data['marital_status']= label_encoder.fit_transform(data['marital_status']) \n",
    "data['education_level']= label_encoder.fit_transform(data['education_level']) \n",
    "data['gender']= label_encoder.fit_transform(data['gender']) \n",
    "data['loan_type']= label_encoder.fit_transform(data['loan_type']) \n",
    "   "
   ]
  },
  {
   "cell_type": "code",
   "execution_count": 57,
   "id": "432b4376",
   "metadata": {},
   "outputs": [
    {
     "data": {
      "text/html": [
       "<div>\n",
       "<style scoped>\n",
       "    .dataframe tbody tr th:only-of-type {\n",
       "        vertical-align: middle;\n",
       "    }\n",
       "\n",
       "    .dataframe tbody tr th {\n",
       "        vertical-align: top;\n",
       "    }\n",
       "\n",
       "    .dataframe thead th {\n",
       "        text-align: right;\n",
       "    }\n",
       "</style>\n",
       "<table border=\"1\" class=\"dataframe\">\n",
       "  <thead>\n",
       "    <tr style=\"text-align: right;\">\n",
       "      <th></th>\n",
       "      <th>loan_type</th>\n",
       "      <th>loan_amount</th>\n",
       "      <th>interest_rate</th>\n",
       "      <th>loan_term</th>\n",
       "      <th>employment_type</th>\n",
       "      <th>income_level</th>\n",
       "      <th>credit_score</th>\n",
       "      <th>gender</th>\n",
       "      <th>marital_status</th>\n",
       "      <th>education_level</th>\n",
       "    </tr>\n",
       "  </thead>\n",
       "  <tbody>\n",
       "    <tr>\n",
       "      <th>0</th>\n",
       "      <td>0</td>\n",
       "      <td>16795</td>\n",
       "      <td>0.051852</td>\n",
       "      <td>15</td>\n",
       "      <td>2</td>\n",
       "      <td>2</td>\n",
       "      <td>833</td>\n",
       "      <td>1</td>\n",
       "      <td>2</td>\n",
       "      <td>2</td>\n",
       "    </tr>\n",
       "    <tr>\n",
       "      <th>1</th>\n",
       "      <td>3</td>\n",
       "      <td>1860</td>\n",
       "      <td>0.089296</td>\n",
       "      <td>56</td>\n",
       "      <td>0</td>\n",
       "      <td>2</td>\n",
       "      <td>776</td>\n",
       "      <td>0</td>\n",
       "      <td>1</td>\n",
       "      <td>0</td>\n",
       "    </tr>\n",
       "    <tr>\n",
       "      <th>2</th>\n",
       "      <td>3</td>\n",
       "      <td>77820</td>\n",
       "      <td>0.070470</td>\n",
       "      <td>51</td>\n",
       "      <td>0</td>\n",
       "      <td>1</td>\n",
       "      <td>697</td>\n",
       "      <td>1</td>\n",
       "      <td>0</td>\n",
       "      <td>1</td>\n",
       "    </tr>\n",
       "    <tr>\n",
       "      <th>3</th>\n",
       "      <td>0</td>\n",
       "      <td>55886</td>\n",
       "      <td>0.062155</td>\n",
       "      <td>30</td>\n",
       "      <td>0</td>\n",
       "      <td>1</td>\n",
       "      <td>795</td>\n",
       "      <td>0</td>\n",
       "      <td>1</td>\n",
       "      <td>3</td>\n",
       "    </tr>\n",
       "    <tr>\n",
       "      <th>4</th>\n",
       "      <td>2</td>\n",
       "      <td>7265</td>\n",
       "      <td>0.070635</td>\n",
       "      <td>48</td>\n",
       "      <td>1</td>\n",
       "      <td>1</td>\n",
       "      <td>519</td>\n",
       "      <td>0</td>\n",
       "      <td>1</td>\n",
       "      <td>1</td>\n",
       "    </tr>\n",
       "  </tbody>\n",
       "</table>\n",
       "</div>"
      ],
      "text/plain": [
       "   loan_type  loan_amount  interest_rate  loan_term  employment_type  \\\n",
       "0          0        16795       0.051852         15                2   \n",
       "1          3         1860       0.089296         56                0   \n",
       "2          3        77820       0.070470         51                0   \n",
       "3          0        55886       0.062155         30                0   \n",
       "4          2         7265       0.070635         48                1   \n",
       "\n",
       "   income_level  credit_score  gender  marital_status  education_level  \n",
       "0             2           833       1               2                2  \n",
       "1             2           776       0               1                0  \n",
       "2             1           697       1               0                1  \n",
       "3             1           795       0               1                3  \n",
       "4             1           519       0               1                1  "
      ]
     },
     "execution_count": 57,
     "metadata": {},
     "output_type": "execute_result"
    }
   ],
   "source": [
    "\n",
    "x= data.drop(columns=['default_status','customer_id','loan_id',\n",
    "                      'application_date','approval_date','disbursement_date','due_date'])\n",
    "x.head()"
   ]
  },
  {
   "cell_type": "code",
   "execution_count": 35,
   "id": "c69fd137",
   "metadata": {},
   "outputs": [
    {
     "data": {
      "text/plain": [
       "0    0\n",
       "1    0\n",
       "2    0\n",
       "3    0\n",
       "4    0\n",
       "Name: default_status, dtype: int64"
      ]
     },
     "execution_count": 35,
     "metadata": {},
     "output_type": "execute_result"
    }
   ],
   "source": [
    "y=data['default_status']\n",
    "y.head()"
   ]
  },
  {
   "cell_type": "code",
   "execution_count": 36,
   "id": "2d08790a",
   "metadata": {},
   "outputs": [],
   "source": [
    "#  Split the model into test and training data\n",
    "\n",
    "x_train, x_test, y_train, y_test = train_test_split(x, y, test_size=0.2)"
   ]
  },
  {
   "cell_type": "code",
   "execution_count": 45,
   "id": "ab113563",
   "metadata": {},
   "outputs": [],
   "source": [
    "# Create the model with specified parameters\n",
    "\n",
    "#Create a svm Classifier\n",
    "clf = svm.SVC(kernel='sigmoid') # Linear Kernel\n",
    "\n",
    "#Train the model using the training sets\n",
    "clf.fit(x_train, y_train)\n",
    "\n",
    "#Predict the response for test dataset\n",
    "prediction = clf.predict(x_test)"
   ]
  },
  {
   "cell_type": "code",
   "execution_count": 43,
   "id": "0e883ab0",
   "metadata": {},
   "outputs": [
    {
     "data": {
      "text/plain": [
       "4548    0\n",
       "3743    0\n",
       "418     0\n",
       "839     0\n",
       "3008    0\n",
       "       ..\n",
       "1561    1\n",
       "3439    0\n",
       "355     0\n",
       "3986    0\n",
       "3529    1\n",
       "Name: default_status, Length: 1000, dtype: int64"
      ]
     },
     "execution_count": 43,
     "metadata": {},
     "output_type": "execute_result"
    }
   ],
   "source": [
    "y_test"
   ]
  },
  {
   "cell_type": "code",
   "execution_count": null,
   "id": "a48d62f5",
   "metadata": {},
   "outputs": [],
   "source": []
  },
  {
   "cell_type": "code",
   "execution_count": 71,
   "id": "f5fbf141",
   "metadata": {},
   "outputs": [
    {
     "name": "stdout",
     "output_type": "stream",
     "text": [
      "Accuracy: 0.667\n",
      "Precision: 0.18446601941747573\n",
      "Recall: 0.18719211822660098\n"
     ]
    }
   ],
   "source": [
    "# Model Accuracy\n",
    "print(\"Accuracy:\",metrics.accuracy_score(y_test,prediction))\n",
    "\n",
    "# Model Precision\n",
    "print(\"Precision:\",metrics.precision_score(y_test,prediction))\n",
    "\n",
    "# Model Recall\n",
    "print(\"Recall:\",metrics.recall_score(y_test,prediction))"
   ]
  },
  {
   "cell_type": "code",
   "execution_count": 75,
   "id": "609af549",
   "metadata": {},
   "outputs": [
    {
     "data": {
      "image/png": "[encoded data removed]",
      "text/plain": [
       "<Figure size 640x480 with 2 Axes>"
      ]
     },
     "metadata": {},
     "output_type": "display_data"
    }
   ],
   "source": [
    "# ---------Confusion Matrix Visualization----------------\n",
    "\n",
    "sns.heatmap(confusion_matrix(y_test,prediction), annot=True, fmt='d', cmap='Blues')\n",
    "plt.xlabel('Predicted')\n",
    "plt.ylabel('Actual')\n",
    "plt.title('Confusion Matrix - SVM ')\n",
    "plt.show()"
   ]
  },
  {
   "cell_type": "code",
   "execution_count": null,
   "id": "8a20641e",
   "metadata": {},
   "outputs": [],
   "source": []
  }
 ],
 "metadata": {
  "kernelspec": {
   "display_name": "Python 3 (ipykernel)",
   "language": "python",
   "name": "python3"
  },
  "language_info": {
   "codemirror_mode": {
    "name": "ipython",
    "version": 3
   },
   "file_extension": ".py",
   "mimetype": "text/x-python",
   "name": "python",
   "nbconvert_exporter": "python",
   "pygments_lexer": "ipython3",
   "version": "3.11.5"
  }
 },
 "nbformat": 4,
 "nbformat_minor": 5
}
